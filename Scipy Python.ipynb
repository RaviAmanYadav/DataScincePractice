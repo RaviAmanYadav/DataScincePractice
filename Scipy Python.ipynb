{
 "cells": [
  {
   "cell_type": "code",
   "execution_count": 1,
   "id": "5ef21a04-9420-4e9a-9316-c34d08503e74",
   "metadata": {},
   "outputs": [
    {
     "name": "stdout",
     "output_type": "stream",
     "text": [
      "Requirement already satisfied: scipy in c:\\users\\ac\\anaconda3\\lib\\site-packages (1.15.3)\n",
      "Requirement already satisfied: numpy in c:\\users\\ac\\anaconda3\\lib\\site-packages (2.1.3)\n",
      "Note: you may need to restart the kernel to use updated packages.\n"
     ]
    }
   ],
   "source": [
    "pip install scipy numpy"
   ]
  },
  {
   "cell_type": "code",
   "execution_count": 2,
   "id": "3c82a648-055c-419f-a317-f54c582538f9",
   "metadata": {},
   "outputs": [],
   "source": [
    "import numpy as np\n",
    "from scipy import stats\n",
    "from scipy import linalg\n",
    "from scipy import optimize\n",
    "from scipy import integrate\n",
    "from scipy import interpolate"
   ]
  },
  {
   "cell_type": "code",
   "execution_count": 3,
   "id": "74ad003f-5457-4e88-b80a-fe344c113728",
   "metadata": {},
   "outputs": [
    {
     "name": "stdout",
     "output_type": "stream",
     "text": [
      "Mean : 3.0\n",
      "Standard Deviation : 1.4142135623730951\n",
      "z-Score : [-1.41421356 -0.70710678  0.          0.70710678  1.41421356]\n"
     ]
    }
   ],
   "source": [
    "# Basic Statictis\n",
    "data = [1, 2, 3, 4, 5]\n",
    "print(\"Mean :\", np.mean(data))\n",
    "print(\"Standard Deviation :\", np.std(data))\n",
    "print(\"z-Score :\", stats.zscore(data))"
   ]
  },
  {
   "cell_type": "markdown",
   "id": "f167875a-4a8e-4604-8e96-63f06f5872f6",
   "metadata": {},
   "source": [
    "## Solve equation\n",
    "3x + 2y = 2\n",
    "\n",
    "\n",
    "x + 2y = 0"
   ]
  },
  {
   "cell_type": "code",
   "execution_count": 4,
   "id": "667c9315-ded4-47ed-b960-68e7c42fe300",
   "metadata": {},
   "outputs": [
    {
     "name": "stdout",
     "output_type": "stream",
     "text": [
      "Solution [x, y] : [ 1.  -0.5]\n"
     ]
    }
   ],
   "source": [
    "A = np.array([[3, 2], [1, 2]])\n",
    "B = np.array([2, 0])\n",
    "print(\"Solution [x, y] :\", linalg.solve(A, B))\n"
   ]
  },
  {
   "cell_type": "code",
   "execution_count": 5,
   "id": "1ca2fe87-8696-4576-837c-8338d05f9865",
   "metadata": {},
   "outputs": [
    {
     "name": "stdout",
     "output_type": "stream",
     "text": [
      "Best : [3.00000003] Minimum Value : 2.000000000000001\n"
     ]
    }
   ],
   "source": [
    "# find the minimum value - optimize\n",
    "f = lambda x: (x-3)**2 + 2\n",
    "res = optimize.minimize(f, x0=[0])\n",
    "print(\"Best :\",res.x, \"Minimum Value :\", res.fun)"
   ]
  },
  {
   "cell_type": "code",
   "execution_count": null,
   "id": "e863cf34-025a-412e-bf79-22b0c28cb2c8",
   "metadata": {},
   "outputs": [],
   "source": []
  }
 ],
 "metadata": {
  "kernelspec": {
   "display_name": "Python [conda env:base] *",
   "language": "python",
   "name": "conda-base-py"
  },
  "language_info": {
   "codemirror_mode": {
    "name": "ipython",
    "version": 3
   },
   "file_extension": ".py",
   "mimetype": "text/x-python",
   "name": "python",
   "nbconvert_exporter": "python",
   "pygments_lexer": "ipython3",
   "version": "3.13.5"
  }
 },
 "nbformat": 4,
 "nbformat_minor": 5
}
